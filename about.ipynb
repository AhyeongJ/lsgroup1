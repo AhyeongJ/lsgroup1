{
  "cells": [
    {
      "cell_type": "raw",
      "metadata": {},
      "source": [
        "---\n",
        "title: About\n",
        "---"
      ],
      "id": "3138df4d"
    },
    {
      "cell_type": "markdown",
      "metadata": {},
      "source": [
        "About this site\n"
      ],
      "id": "003053ba"
    },
    {
      "cell_type": "code",
      "metadata": {},
      "source": [
        "1 + 1"
      ],
      "id": "632eb5f2",
      "execution_count": null,
      "outputs": []
    }
  ],
  "metadata": {
    "kernelspec": {
      "name": "python3",
      "language": "python",
      "display_name": "Python 3 (ipykernel)"
    }
  },
  "nbformat": 4,
  "nbformat_minor": 5
}